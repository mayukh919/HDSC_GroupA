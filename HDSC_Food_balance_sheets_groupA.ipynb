{
 "cells": [
  {
   "cell_type": "code",
   "execution_count": 1,
   "id": "fba921f0",
   "metadata": {},
   "outputs": [],
   "source": [
    "import pandas as pd\n",
    "import numpy as np\n",
    "import matplotlib.pyplot as plt\n",
    "import seaborn as sns"
   ]
  },
  {
   "cell_type": "code",
   "execution_count": 2,
   "id": "bbcff9fd",
   "metadata": {},
   "outputs": [],
   "source": [
    "# reading the food balance sheets csv file\n",
    "\n",
    "food_data= pd.read_csv('C:/Users/Suporno/Desktop/Hamoye/intro to python for ML/FoodBalanceSheets_E_Africa_NOFLAG.csv',encoding='latin-1')"
   ]
  },
  {
   "cell_type": "code",
   "execution_count": 3,
   "id": "2981cdbc",
   "metadata": {},
   "outputs": [
    {
     "data": {
      "text/html": [
       "<div>\n",
       "<style scoped>\n",
       "    .dataframe tbody tr th:only-of-type {\n",
       "        vertical-align: middle;\n",
       "    }\n",
       "\n",
       "    .dataframe tbody tr th {\n",
       "        vertical-align: top;\n",
       "    }\n",
       "\n",
       "    .dataframe thead th {\n",
       "        text-align: right;\n",
       "    }\n",
       "</style>\n",
       "<table border=\"1\" class=\"dataframe\">\n",
       "  <thead>\n",
       "    <tr style=\"text-align: right;\">\n",
       "      <th></th>\n",
       "      <th>Area Code</th>\n",
       "      <th>Area</th>\n",
       "      <th>Item Code</th>\n",
       "      <th>Item</th>\n",
       "      <th>Element Code</th>\n",
       "      <th>Element</th>\n",
       "      <th>Unit</th>\n",
       "      <th>Y2014</th>\n",
       "      <th>Y2015</th>\n",
       "      <th>Y2016</th>\n",
       "      <th>Y2017</th>\n",
       "      <th>Y2018</th>\n",
       "    </tr>\n",
       "  </thead>\n",
       "  <tbody>\n",
       "    <tr>\n",
       "      <th>0</th>\n",
       "      <td>4</td>\n",
       "      <td>Algeria</td>\n",
       "      <td>2501</td>\n",
       "      <td>Population</td>\n",
       "      <td>511</td>\n",
       "      <td>Total Population - Both sexes</td>\n",
       "      <td>1000 persons</td>\n",
       "      <td>38924.00</td>\n",
       "      <td>39728.00</td>\n",
       "      <td>40551.00</td>\n",
       "      <td>41389.00</td>\n",
       "      <td>42228.00</td>\n",
       "    </tr>\n",
       "    <tr>\n",
       "      <th>1</th>\n",
       "      <td>4</td>\n",
       "      <td>Algeria</td>\n",
       "      <td>2501</td>\n",
       "      <td>Population</td>\n",
       "      <td>5301</td>\n",
       "      <td>Domestic supply quantity</td>\n",
       "      <td>1000 tonnes</td>\n",
       "      <td>0.00</td>\n",
       "      <td>0.00</td>\n",
       "      <td>0.00</td>\n",
       "      <td>0.00</td>\n",
       "      <td>0.00</td>\n",
       "    </tr>\n",
       "    <tr>\n",
       "      <th>2</th>\n",
       "      <td>4</td>\n",
       "      <td>Algeria</td>\n",
       "      <td>2901</td>\n",
       "      <td>Grand Total</td>\n",
       "      <td>664</td>\n",
       "      <td>Food supply (kcal/capita/day)</td>\n",
       "      <td>kcal/capita/day</td>\n",
       "      <td>3377.00</td>\n",
       "      <td>3379.00</td>\n",
       "      <td>3372.00</td>\n",
       "      <td>3341.00</td>\n",
       "      <td>3322.00</td>\n",
       "    </tr>\n",
       "    <tr>\n",
       "      <th>3</th>\n",
       "      <td>4</td>\n",
       "      <td>Algeria</td>\n",
       "      <td>2901</td>\n",
       "      <td>Grand Total</td>\n",
       "      <td>674</td>\n",
       "      <td>Protein supply quantity (g/capita/day)</td>\n",
       "      <td>g/capita/day</td>\n",
       "      <td>94.90</td>\n",
       "      <td>94.35</td>\n",
       "      <td>94.72</td>\n",
       "      <td>92.82</td>\n",
       "      <td>91.83</td>\n",
       "    </tr>\n",
       "    <tr>\n",
       "      <th>4</th>\n",
       "      <td>4</td>\n",
       "      <td>Algeria</td>\n",
       "      <td>2901</td>\n",
       "      <td>Grand Total</td>\n",
       "      <td>684</td>\n",
       "      <td>Fat supply quantity (g/capita/day)</td>\n",
       "      <td>g/capita/day</td>\n",
       "      <td>80.06</td>\n",
       "      <td>79.36</td>\n",
       "      <td>77.40</td>\n",
       "      <td>80.19</td>\n",
       "      <td>77.28</td>\n",
       "    </tr>\n",
       "  </tbody>\n",
       "</table>\n",
       "</div>"
      ],
      "text/plain": [
       "   Area Code     Area  Item Code         Item  Element Code   \n",
       "0          4  Algeria       2501   Population           511  \\\n",
       "1          4  Algeria       2501   Population          5301   \n",
       "2          4  Algeria       2901  Grand Total           664   \n",
       "3          4  Algeria       2901  Grand Total           674   \n",
       "4          4  Algeria       2901  Grand Total           684   \n",
       "\n",
       "                                  Element             Unit     Y2014   \n",
       "0           Total Population - Both sexes     1000 persons  38924.00  \\\n",
       "1                Domestic supply quantity      1000 tonnes      0.00   \n",
       "2           Food supply (kcal/capita/day)  kcal/capita/day   3377.00   \n",
       "3  Protein supply quantity (g/capita/day)     g/capita/day     94.90   \n",
       "4      Fat supply quantity (g/capita/day)     g/capita/day     80.06   \n",
       "\n",
       "      Y2015     Y2016     Y2017     Y2018  \n",
       "0  39728.00  40551.00  41389.00  42228.00  \n",
       "1      0.00      0.00      0.00      0.00  \n",
       "2   3379.00   3372.00   3341.00   3322.00  \n",
       "3     94.35     94.72     92.82     91.83  \n",
       "4     79.36     77.40     80.19     77.28  "
      ]
     },
     "execution_count": 3,
     "metadata": {},
     "output_type": "execute_result"
    }
   ],
   "source": [
    "food_data.head()"
   ]
  },
  {
   "cell_type": "code",
   "execution_count": 4,
   "id": "10d7d06c",
   "metadata": {},
   "outputs": [
    {
     "data": {
      "text/html": [
       "<div>\n",
       "<style scoped>\n",
       "    .dataframe tbody tr th:only-of-type {\n",
       "        vertical-align: middle;\n",
       "    }\n",
       "\n",
       "    .dataframe tbody tr th {\n",
       "        vertical-align: top;\n",
       "    }\n",
       "\n",
       "    .dataframe thead th {\n",
       "        text-align: right;\n",
       "    }\n",
       "</style>\n",
       "<table border=\"1\" class=\"dataframe\">\n",
       "  <thead>\n",
       "    <tr style=\"text-align: right;\">\n",
       "      <th></th>\n",
       "      <th>Area Code</th>\n",
       "      <th>Area</th>\n",
       "      <th>Item Code</th>\n",
       "      <th>Item</th>\n",
       "      <th>Element Code</th>\n",
       "      <th>Element</th>\n",
       "      <th>Unit</th>\n",
       "      <th>Y2014</th>\n",
       "      <th>Y2015</th>\n",
       "      <th>Y2016</th>\n",
       "      <th>Y2017</th>\n",
       "      <th>Y2018</th>\n",
       "    </tr>\n",
       "  </thead>\n",
       "  <tbody>\n",
       "    <tr>\n",
       "      <th>count</th>\n",
       "      <td>60943.000000</td>\n",
       "      <td>60943</td>\n",
       "      <td>60943.000000</td>\n",
       "      <td>60943</td>\n",
       "      <td>60943.000000</td>\n",
       "      <td>60943</td>\n",
       "      <td>60943</td>\n",
       "      <td>59354.000000</td>\n",
       "      <td>59395.000000</td>\n",
       "      <td>59408.000000</td>\n",
       "      <td>59437.000000</td>\n",
       "      <td>59507.000000</td>\n",
       "    </tr>\n",
       "    <tr>\n",
       "      <th>unique</th>\n",
       "      <td>NaN</td>\n",
       "      <td>49</td>\n",
       "      <td>NaN</td>\n",
       "      <td>119</td>\n",
       "      <td>NaN</td>\n",
       "      <td>18</td>\n",
       "      <td>5</td>\n",
       "      <td>NaN</td>\n",
       "      <td>NaN</td>\n",
       "      <td>NaN</td>\n",
       "      <td>NaN</td>\n",
       "      <td>NaN</td>\n",
       "    </tr>\n",
       "    <tr>\n",
       "      <th>top</th>\n",
       "      <td>NaN</td>\n",
       "      <td>Kenya</td>\n",
       "      <td>NaN</td>\n",
       "      <td>Milk - Excluding Butter</td>\n",
       "      <td>NaN</td>\n",
       "      <td>Domestic supply quantity</td>\n",
       "      <td>1000 tonnes</td>\n",
       "      <td>NaN</td>\n",
       "      <td>NaN</td>\n",
       "      <td>NaN</td>\n",
       "      <td>NaN</td>\n",
       "      <td>NaN</td>\n",
       "    </tr>\n",
       "    <tr>\n",
       "      <th>freq</th>\n",
       "      <td>NaN</td>\n",
       "      <td>1560</td>\n",
       "      <td>NaN</td>\n",
       "      <td>1262</td>\n",
       "      <td>NaN</td>\n",
       "      <td>5295</td>\n",
       "      <td>40933</td>\n",
       "      <td>NaN</td>\n",
       "      <td>NaN</td>\n",
       "      <td>NaN</td>\n",
       "      <td>NaN</td>\n",
       "      <td>NaN</td>\n",
       "    </tr>\n",
       "    <tr>\n",
       "      <th>mean</th>\n",
       "      <td>134.265576</td>\n",
       "      <td>NaN</td>\n",
       "      <td>2687.176706</td>\n",
       "      <td>NaN</td>\n",
       "      <td>3814.856456</td>\n",
       "      <td>NaN</td>\n",
       "      <td>NaN</td>\n",
       "      <td>134.196282</td>\n",
       "      <td>135.235966</td>\n",
       "      <td>136.555222</td>\n",
       "      <td>140.917765</td>\n",
       "      <td>143.758381</td>\n",
       "    </tr>\n",
       "    <tr>\n",
       "      <th>std</th>\n",
       "      <td>72.605709</td>\n",
       "      <td>NaN</td>\n",
       "      <td>146.055739</td>\n",
       "      <td>NaN</td>\n",
       "      <td>2212.007033</td>\n",
       "      <td>NaN</td>\n",
       "      <td>NaN</td>\n",
       "      <td>1567.663696</td>\n",
       "      <td>1603.403984</td>\n",
       "      <td>1640.007194</td>\n",
       "      <td>1671.862359</td>\n",
       "      <td>1710.782658</td>\n",
       "    </tr>\n",
       "    <tr>\n",
       "      <th>min</th>\n",
       "      <td>4.000000</td>\n",
       "      <td>NaN</td>\n",
       "      <td>2501.000000</td>\n",
       "      <td>NaN</td>\n",
       "      <td>511.000000</td>\n",
       "      <td>NaN</td>\n",
       "      <td>NaN</td>\n",
       "      <td>-1796.000000</td>\n",
       "      <td>-3161.000000</td>\n",
       "      <td>-3225.000000</td>\n",
       "      <td>-1582.000000</td>\n",
       "      <td>-3396.000000</td>\n",
       "    </tr>\n",
       "    <tr>\n",
       "      <th>25%</th>\n",
       "      <td>74.000000</td>\n",
       "      <td>NaN</td>\n",
       "      <td>2562.000000</td>\n",
       "      <td>NaN</td>\n",
       "      <td>684.000000</td>\n",
       "      <td>NaN</td>\n",
       "      <td>NaN</td>\n",
       "      <td>0.000000</td>\n",
       "      <td>0.000000</td>\n",
       "      <td>0.000000</td>\n",
       "      <td>0.000000</td>\n",
       "      <td>0.000000</td>\n",
       "    </tr>\n",
       "    <tr>\n",
       "      <th>50%</th>\n",
       "      <td>136.000000</td>\n",
       "      <td>NaN</td>\n",
       "      <td>2630.000000</td>\n",
       "      <td>NaN</td>\n",
       "      <td>5142.000000</td>\n",
       "      <td>NaN</td>\n",
       "      <td>NaN</td>\n",
       "      <td>0.090000</td>\n",
       "      <td>0.080000</td>\n",
       "      <td>0.080000</td>\n",
       "      <td>0.100000</td>\n",
       "      <td>0.070000</td>\n",
       "    </tr>\n",
       "    <tr>\n",
       "      <th>75%</th>\n",
       "      <td>195.000000</td>\n",
       "      <td>NaN</td>\n",
       "      <td>2775.000000</td>\n",
       "      <td>NaN</td>\n",
       "      <td>5511.000000</td>\n",
       "      <td>NaN</td>\n",
       "      <td>NaN</td>\n",
       "      <td>8.340000</td>\n",
       "      <td>8.460000</td>\n",
       "      <td>8.430000</td>\n",
       "      <td>9.000000</td>\n",
       "      <td>9.000000</td>\n",
       "    </tr>\n",
       "    <tr>\n",
       "      <th>max</th>\n",
       "      <td>276.000000</td>\n",
       "      <td>NaN</td>\n",
       "      <td>2961.000000</td>\n",
       "      <td>NaN</td>\n",
       "      <td>5911.000000</td>\n",
       "      <td>NaN</td>\n",
       "      <td>NaN</td>\n",
       "      <td>176405.000000</td>\n",
       "      <td>181137.000000</td>\n",
       "      <td>185960.000000</td>\n",
       "      <td>190873.000000</td>\n",
       "      <td>195875.000000</td>\n",
       "    </tr>\n",
       "  </tbody>\n",
       "</table>\n",
       "</div>"
      ],
      "text/plain": [
       "           Area Code   Area     Item Code                     Item   \n",
       "count   60943.000000  60943  60943.000000                    60943  \\\n",
       "unique           NaN     49           NaN                      119   \n",
       "top              NaN  Kenya           NaN  Milk - Excluding Butter   \n",
       "freq             NaN   1560           NaN                     1262   \n",
       "mean      134.265576    NaN   2687.176706                      NaN   \n",
       "std        72.605709    NaN    146.055739                      NaN   \n",
       "min         4.000000    NaN   2501.000000                      NaN   \n",
       "25%        74.000000    NaN   2562.000000                      NaN   \n",
       "50%       136.000000    NaN   2630.000000                      NaN   \n",
       "75%       195.000000    NaN   2775.000000                      NaN   \n",
       "max       276.000000    NaN   2961.000000                      NaN   \n",
       "\n",
       "        Element Code                   Element         Unit          Y2014   \n",
       "count   60943.000000                     60943        60943   59354.000000  \\\n",
       "unique           NaN                        18            5            NaN   \n",
       "top              NaN  Domestic supply quantity  1000 tonnes            NaN   \n",
       "freq             NaN                      5295        40933            NaN   \n",
       "mean     3814.856456                       NaN          NaN     134.196282   \n",
       "std      2212.007033                       NaN          NaN    1567.663696   \n",
       "min       511.000000                       NaN          NaN   -1796.000000   \n",
       "25%       684.000000                       NaN          NaN       0.000000   \n",
       "50%      5142.000000                       NaN          NaN       0.090000   \n",
       "75%      5511.000000                       NaN          NaN       8.340000   \n",
       "max      5911.000000                       NaN          NaN  176405.000000   \n",
       "\n",
       "                Y2015          Y2016          Y2017          Y2018  \n",
       "count    59395.000000   59408.000000   59437.000000   59507.000000  \n",
       "unique            NaN            NaN            NaN            NaN  \n",
       "top               NaN            NaN            NaN            NaN  \n",
       "freq              NaN            NaN            NaN            NaN  \n",
       "mean       135.235966     136.555222     140.917765     143.758381  \n",
       "std       1603.403984    1640.007194    1671.862359    1710.782658  \n",
       "min      -3161.000000   -3225.000000   -1582.000000   -3396.000000  \n",
       "25%          0.000000       0.000000       0.000000       0.000000  \n",
       "50%          0.080000       0.080000       0.100000       0.070000  \n",
       "75%          8.460000       8.430000       9.000000       9.000000  \n",
       "max     181137.000000  185960.000000  190873.000000  195875.000000  "
      ]
     },
     "execution_count": 4,
     "metadata": {},
     "output_type": "execute_result"
    }
   ],
   "source": [
    "food_data.describe(include='all')"
   ]
  },
  {
   "cell_type": "code",
   "execution_count": 5,
   "id": "ac5a00a4",
   "metadata": {},
   "outputs": [
    {
     "data": {
      "text/plain": [
       "Area Code          0\n",
       "Area               0\n",
       "Item Code          0\n",
       "Item               0\n",
       "Element Code       0\n",
       "Element            0\n",
       "Unit               0\n",
       "Y2014           1589\n",
       "Y2015           1548\n",
       "Y2016           1535\n",
       "Y2017           1506\n",
       "Y2018           1436\n",
       "dtype: int64"
      ]
     },
     "execution_count": 5,
     "metadata": {},
     "output_type": "execute_result"
    }
   ],
   "source": [
    "food_data.isnull().sum()"
   ]
  },
  {
   "cell_type": "code",
   "execution_count": 6,
   "id": "387cd5d5",
   "metadata": {},
   "outputs": [
    {
     "data": {
      "text/plain": [
       "Area Code         49\n",
       "Area              49\n",
       "Item Code        122\n",
       "Item             119\n",
       "Element Code      18\n",
       "Element           18\n",
       "Unit               5\n",
       "Y2014           4493\n",
       "Y2015           4520\n",
       "Y2016           4520\n",
       "Y2017           4537\n",
       "Y2018           4591\n",
       "dtype: int64"
      ]
     },
     "execution_count": 6,
     "metadata": {},
     "output_type": "execute_result"
    }
   ],
   "source": [
    "food_data.nunique()"
   ]
  },
  {
   "cell_type": "code",
   "execution_count": 7,
   "id": "f9d380c1",
   "metadata": {},
   "outputs": [
    {
     "data": {
      "text/plain": [
       "(60943, 12)"
      ]
     },
     "execution_count": 7,
     "metadata": {},
     "output_type": "execute_result"
    }
   ],
   "source": [
    "food_data.shape"
   ]
  },
  {
   "cell_type": "code",
   "execution_count": 14,
   "id": "3ec385c6",
   "metadata": {},
   "outputs": [
    {
     "name": "stdout",
     "output_type": "stream",
     "text": [
      "Element\n",
      "Domestic supply quantity                  2088198.10\n",
      "Export Quantity                            182338.80\n",
      "Fat supply quantity (g/capita/day)          10253.84\n",
      "Feed                                       223705.68\n",
      "Food                                      1258888.28\n",
      "Food supply (kcal/capita/day)              454681.00\n",
      "Food supply quantity (kg/capita/yr)         48690.04\n",
      "Import Quantity                            294559.09\n",
      "Losses                                     160614.00\n",
      "Other uses (non-food)                       91645.97\n",
      "Processing                                 292836.00\n",
      "Production                                2030056.89\n",
      "Protein supply quantity (g/capita/day)      11842.45\n",
      "Residuals                                   35500.00\n",
      "Seed                                        24870.14\n",
      "Stock Variation                             54316.91\n",
      "Total Population - Both sexes             1112641.00\n",
      "Tourist consumption                            91.00\n",
      "Name: Y2017, dtype: float64\n"
     ]
    }
   ],
   "source": [
    "grouped_food_data= food_data.groupby('Element')\n",
    "\n",
    "total_sum = grouped_food_data['Y2017'].sum()\n",
    "\n",
    "print(total_sum)"
   ]
  },
  {
   "cell_type": "code",
   "execution_count": 28,
   "id": "681b9c4d",
   "metadata": {},
   "outputs": [
    {
     "name": "stdout",
     "output_type": "stream",
     "text": [
      "Element\n",
      "Domestic supply quantity                  1996716.35\n",
      "Export Quantity                            150020.64\n",
      "Fat supply quantity (g/capita/day)          10225.56\n",
      "Feed                                       216927.89\n",
      "Food                                      1212332.49\n",
      "Food supply (kcal/capita/day)              454257.00\n",
      "Food supply quantity (kg/capita/yr)         49650.63\n",
      "Import Quantity                            274144.48\n",
      "Losses                                     153223.00\n",
      "Other uses (non-food)                       78718.13\n",
      "Processing                                 282923.00\n",
      "Production                                1931287.75\n",
      "Protein supply quantity (g/capita/day)      11836.46\n",
      "Residuals                                   30149.00\n",
      "Seed                                        21922.92\n",
      "Stock Variation                             58749.83\n",
      "Total Population - Both sexes             1031585.00\n",
      "Tourist consumption                           416.00\n",
      "Name: Y2014, dtype: float64\n"
     ]
    }
   ],
   "source": [
    "grouped_food_data2= food_data.groupby('Element')\n",
    "\n",
    "total_sum2 = grouped_food_data2['Y2014'].sum()\n",
    "\n",
    "print(total_sum2)"
   ]
  },
  {
   "cell_type": "code",
   "execution_count": 30,
   "id": "354376f4",
   "metadata": {},
   "outputs": [
    {
     "name": "stdout",
     "output_type": "stream",
     "text": [
      "Element\n",
      "Domestic supply quantity                  2021493.55\n",
      "Export Quantity                            157614.47\n",
      "Fat supply quantity (g/capita/day)          10235.74\n",
      "Feed                                       225050.22\n",
      "Food                                      1232361.10\n",
      "Food supply (kcal/capita/day)              453383.00\n",
      "Food supply quantity (kg/capita/yr)         49345.13\n",
      "Import Quantity                            267018.46\n",
      "Losses                                     155439.00\n",
      "Other uses (non-food)                       66254.41\n",
      "Processing                                 287929.00\n",
      "Production                                1947019.39\n",
      "Protein supply quantity (g/capita/day)      11833.95\n",
      "Residuals                                   30045.00\n",
      "Seed                                        23976.82\n",
      "Stock Variation                             34910.99\n",
      "Total Population - Both sexes             1058081.00\n",
      "Tourist consumption                           349.00\n",
      "Name: Y2015, dtype: float64\n"
     ]
    }
   ],
   "source": [
    "grouped_food_data3= food_data.groupby('Element')\n",
    "\n",
    "total_sum3 = grouped_food_data3['Y2015'].sum()\n",
    "\n",
    "print(total_sum3)"
   ]
  },
  {
   "cell_type": "code",
   "execution_count": 31,
   "id": "d949f00e",
   "metadata": {},
   "outputs": [
    {
     "name": "stdout",
     "output_type": "stream",
     "text": [
      "Element\n",
      "Domestic supply quantity                  2044842.70\n",
      "Export Quantity                            151920.46\n",
      "Fat supply quantity (g/capita/day)          10102.77\n",
      "Feed                                       228958.65\n",
      "Food                                      1247022.17\n",
      "Food supply (kcal/capita/day)              451810.00\n",
      "Food supply quantity (kg/capita/yr)         48985.28\n",
      "Import Quantity                            286582.78\n",
      "Losses                                     157787.00\n",
      "Other uses (non-food)                       69563.68\n",
      "Processing                                 280631.00\n",
      "Production                                1943537.15\n",
      "Protein supply quantity (g/capita/day)      11779.69\n",
      "Residuals                                   37224.00\n",
      "Seed                                        23389.20\n",
      "Stock Variation                             33140.12\n",
      "Total Population - Both sexes             1085107.00\n",
      "Tourist consumption                            89.00\n",
      "Name: Y2016, dtype: float64\n"
     ]
    }
   ],
   "source": [
    "grouped_food_data4= food_data.groupby('Element')\n",
    "\n",
    "total_sum4 = grouped_food_data4['Y2016'].sum()\n",
    "\n",
    "print(total_sum4)"
   ]
  },
  {
   "cell_type": "code",
   "execution_count": 32,
   "id": "fb83425e",
   "metadata": {},
   "outputs": [
    {
     "name": "stdout",
     "output_type": "stream",
     "text": [
      "Element\n",
      "Domestic supply quantity                  2088198.10\n",
      "Export Quantity                            182338.80\n",
      "Fat supply quantity (g/capita/day)          10253.84\n",
      "Feed                                       223705.68\n",
      "Food                                      1258888.28\n",
      "Food supply (kcal/capita/day)              454681.00\n",
      "Food supply quantity (kg/capita/yr)         48690.04\n",
      "Import Quantity                            294559.09\n",
      "Losses                                     160614.00\n",
      "Other uses (non-food)                       91645.97\n",
      "Processing                                 292836.00\n",
      "Production                                2030056.89\n",
      "Protein supply quantity (g/capita/day)      11842.45\n",
      "Residuals                                   35500.00\n",
      "Seed                                        24870.14\n",
      "Stock Variation                             54316.91\n",
      "Total Population - Both sexes             1112641.00\n",
      "Tourist consumption                            91.00\n",
      "Name: Y2017, dtype: float64\n"
     ]
    }
   ],
   "source": [
    "grouped_food_data5= food_data.groupby('Element')\n",
    "\n",
    "total_sum5 = grouped_food_data5['Y2017'].sum()\n",
    "\n",
    "print(total_sum5)"
   ]
  },
  {
   "cell_type": "code",
   "execution_count": 36,
   "id": "c68d7efc",
   "metadata": {},
   "outputs": [
    {
     "name": "stdout",
     "output_type": "stream",
     "text": [
      "Area\n",
      "Algeria                         325644.27\n",
      "Angola                          229159.57\n",
      "Benin                           124771.22\n",
      "Botswana                         22101.30\n",
      "Burkina Faso                    101855.07\n",
      "Cabo Verde                       14650.74\n",
      "Cameroon                        232030.43\n",
      "Central African Republic         29937.00\n",
      "Chad                             71594.68\n",
      "Comoros                             59.84\n",
      "Congo                            41181.68\n",
      "Côte d'Ivoire                   224599.01\n",
      "Djibouti                         22729.91\n",
      "Egypt                           866379.92\n",
      "Eswatini                         54343.33\n",
      "Ethiopia                        448683.76\n",
      "Ethiopia PDR                         0.00\n",
      "Gabon                            27979.64\n",
      "Gambia                           23154.18\n",
      "Ghana                           337599.06\n",
      "Guinea                           98138.87\n",
      "Guinea-Bissau                    19102.77\n",
      "Kenya                           264660.66\n",
      "Lesotho                          21267.96\n",
      "Liberia                          29342.20\n",
      "Madagascar                      131197.73\n",
      "Malawi                          181098.71\n",
      "Mali                            149928.33\n",
      "Mauritania                      156665.46\n",
      "Mauritius                        51114.83\n",
      "Morocco                         388495.36\n",
      "Mozambique                      161407.98\n",
      "Namibia                          29874.89\n",
      "Niger                           126707.58\n",
      "Nigeria                        1483268.23\n",
      "Rwanda                           73663.69\n",
      "Sao Tome and Principe            12662.63\n",
      "Senegal                          95681.15\n",
      "Seychelles                         442.34\n",
      "Sierra Leone                     55311.33\n",
      "South Africa                    517590.54\n",
      "Sudan                           239931.92\n",
      "Sudan (former)                       0.00\n",
      "Togo                             49841.88\n",
      "Tunisia                         124167.20\n",
      "Uganda                          213950.38\n",
      "United Republic of Tanzania     322616.85\n",
      "Zambia                          103223.77\n",
      "Zimbabwe                         75919.34\n",
      "Name: Y2017, dtype: float64\n"
     ]
    }
   ],
   "source": [
    "grouped_food_data6= food_data.groupby('Area')\n",
    "\n",
    "total_sum6 = grouped_food_data6['Y2017'].sum()\n",
    "\n",
    "print(total_sum6)"
   ]
  },
  {
   "cell_type": "code",
   "execution_count": 37,
   "id": "838fcd1c",
   "metadata": {},
   "outputs": [
    {
     "name": "stdout",
     "output_type": "stream",
     "text": [
      "1483268.23\n"
     ]
    }
   ],
   "source": [
    "print(total_sum6.max())"
   ]
  },
  {
   "cell_type": "code",
   "execution_count": 44,
   "id": "b5d5a435",
   "metadata": {},
   "outputs": [
    {
     "name": "stdout",
     "output_type": "stream",
     "text": [
      "Area\n",
      "Sudan (former)               0.00\n",
      "Ethiopia PDR                 0.00\n",
      "Comoros                     59.84\n",
      "Seychelles                 442.34\n",
      "Sao Tome and Principe    12662.63\n",
      "Cabo Verde               14650.74\n",
      "Guinea-Bissau            19102.77\n",
      "Name: Y2017, dtype: float64\n"
     ]
    }
   ],
   "source": [
    "total_sum6_sorted = grouped_food_data6['Y2017'].sum().sort_values()\n",
    "\n",
    "\n",
    "print(total_sum6_sorted.head(7))"
   ]
  },
  {
   "cell_type": "code",
   "execution_count": 49,
   "id": "eb35487b",
   "metadata": {},
   "outputs": [
    {
     "name": "stdout",
     "output_type": "stream",
     "text": [
      "0.024456819495221736\n"
     ]
    }
   ],
   "source": [
    "corr14 = food_data['Element Code'].corr(food_data['Y2014'])\n",
    "\n",
    "print(corr14)"
   ]
  },
  {
   "cell_type": "code",
   "execution_count": 50,
   "id": "43fc1b63",
   "metadata": {},
   "outputs": [
    {
     "name": "stdout",
     "output_type": "stream",
     "text": [
      "0.02388919930163995\n"
     ]
    }
   ],
   "source": [
    "corr15 = food_data['Element Code'].corr(food_data['Y2015'])\n",
    "print(corr15)"
   ]
  },
  {
   "cell_type": "code",
   "execution_count": 51,
   "id": "349326aa",
   "metadata": {},
   "outputs": [
    {
     "name": "stdout",
     "output_type": "stream",
     "text": [
      "0.02344399758496138\n"
     ]
    }
   ],
   "source": [
    "corr16 = food_data['Element Code'].corr(food_data['Y2016'])\n",
    "print(corr16)"
   ]
  },
  {
   "cell_type": "code",
   "execution_count": 52,
   "id": "7a6522b9",
   "metadata": {},
   "outputs": [
    {
     "name": "stdout",
     "output_type": "stream",
     "text": [
      "0.024254007760045757\n"
     ]
    }
   ],
   "source": [
    "corr17 = food_data['Element Code'].corr(food_data['Y2017'])\n",
    "print(corr17)"
   ]
  },
  {
   "cell_type": "code",
   "execution_count": 53,
   "id": "e14ea703",
   "metadata": {},
   "outputs": [
    {
     "name": "stdout",
     "output_type": "stream",
     "text": [
      "0.02427857195351954\n"
     ]
    }
   ],
   "source": [
    "corr18 = food_data['Element Code'].corr(food_data['Y2018'])\n",
    "print(corr18)"
   ]
  },
  {
   "cell_type": "code",
   "execution_count": 55,
   "id": "ebffe247",
   "metadata": {},
   "outputs": [
    {
     "name": "stdout",
     "output_type": "stream",
     "text": [
      "Item\n",
      "Alcohol, Non-Food        2180.00\n",
      "Alcoholic Beverages     98783.72\n",
      "Animal Products         11811.73\n",
      "Animal fats            200675.72\n",
      "Apples and products     10559.15\n",
      "                         ...    \n",
      "Vegetables, Other      158104.08\n",
      "Vegetal Products       107064.17\n",
      "Wheat and products     234710.51\n",
      "Wine                     4251.81\n",
      "Yams                   203151.78\n",
      "Name: Y2015, Length: 119, dtype: float64\n"
     ]
    }
   ],
   "source": [
    "grouped_food_data7= food_data.groupby('Item')\n",
    "\n",
    "total_sum7 = grouped_food_data7['Y2015'].sum()\n",
    "\n",
    "print(total_sum7)"
   ]
  },
  {
   "cell_type": "code",
   "execution_count": null,
   "id": "add0082e",
   "metadata": {},
   "outputs": [],
   "source": []
  }
 ],
 "metadata": {
  "kernelspec": {
   "display_name": "Python 3 (ipykernel)",
   "language": "python",
   "name": "python3"
  },
  "language_info": {
   "codemirror_mode": {
    "name": "ipython",
    "version": 3
   },
   "file_extension": ".py",
   "mimetype": "text/x-python",
   "name": "python",
   "nbconvert_exporter": "python",
   "pygments_lexer": "ipython3",
   "version": "3.9.13"
  }
 },
 "nbformat": 4,
 "nbformat_minor": 5
}
